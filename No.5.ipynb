{
 "cells": [
  {
   "cell_type": "code",
   "execution_count": 4,
   "metadata": {},
   "outputs": [
    {
     "name": "stdout",
     "output_type": "stream",
     "text": [
      "[[ 0.66666667  0.83333333 -0.5       ]\n",
      " [ 0.33333333  0.16666667 -0.5       ]\n",
      " [ 0.          0.5        -0.5       ]]\n"
     ]
    },
    {
     "data": {
      "text/plain": [
       "array([[ 0.5],\n",
       "       [-1.5],\n",
       "       [ 1.5]])"
      ]
     },
     "execution_count": 4,
     "metadata": {},
     "output_type": "execute_result"
    }
   ],
   "source": [
    "#逆行列の求め方\n",
    "from pprint import pprint\n",
    "import scipy.linalg as linalg   # SciPy Linear Algebra Library\n",
    "import numpy as np\n",
    "\n",
    "A = np.array([[1,1,-2],[1,-2,1],[1,-2,-1]])\n",
    "b = np.array([[-4],[5],[2]])\n",
    "#pprint(A)\n",
    "#pprint(b)\n",
    "inv_A = linalg.inv(A)\n",
    "print(inv_A)\n",
    "np.dot(inv_A,b)"
   ]
  },
  {
   "cell_type": "code",
   "execution_count": 21,
   "metadata": {},
   "outputs": [
    {
     "name": "stdout",
     "output_type": "stream",
     "text": [
      "array([[1.      , 0.      , 0.      ],\n",
      "       [1.      , 1.      , 0.      ],\n",
      "       [2.      , 1.666667, 1.      ]])\n",
      "array([[ 1.      ,  4.      ,  3.      ],\n",
      "       [ 0.      , -6.      , -2.      ],\n",
      "       [ 0.      ,  0.      , -3.666667]])\n",
      "array([[ 11.],\n",
      "       [  0.],\n",
      "       [-11.]])\n"
     ]
    }
   ],
   "source": [
    "#問題1\n",
    "#LU分解、上・下三角行列、連立方程式の解\n",
    "from pprint import pprint\n",
    "import scipy.linalg as linalg   # SciPy Linear Algebra Library\n",
    "import numpy as np\n",
    "\n",
    "#！！！！数値を変える！！！！\n",
    "A = np.array([[1.0,4,3],[1,-2,1],[2,-2,-1]])\n",
    "A0 = np.array([[1.0,4,3],[1,-2,1],[2,-2,-1]])\n",
    "b = np.array([[11.0],[11],[11]])\n",
    "\n",
    "n = 3\n",
    "L = np.identity(n)\n",
    "T = []\n",
    "for i in range(n):        #i行目\n",
    "    T.append(np.identity(n))\n",
    "    for j in range(i+1, n):\n",
    "        am = A[j,i]/A[i,i]    #i行の要素を使って，i+1行目の先頭を消す係数を求める\n",
    "        T[i][j,i]=-am         #i番目の消去行列に要素を入れる\n",
    "        L[j,i]=am             #LTMの要素\n",
    "        for k in range(n):\n",
    "            A[j,k] -= am*A[i,k] #もとの行列をUTMにしていく\n",
    "        b[j] -= b[i]*am   #数値ベクトルも操作\n",
    "pprint(L)\n",
    "pprint(A)\n",
    "pprint(b)"
   ]
  },
  {
   "cell_type": "code",
   "execution_count": 24,
   "metadata": {},
   "outputs": [
    {
     "name": "stdout",
     "output_type": "stream",
     "text": [
      "array([[ 3.,  2.,  2.,  1., -6.],\n",
      "       [ 3.,  2.,  3.,  1.,  2.],\n",
      "       [ 1., -2., -3.,  1., -9.],\n",
      "       [ 5.,  3., -2.,  5.,  2.]])\n",
      "P:\n",
      "array([[0., 0., 0., 1.],\n",
      "       [0., 0., 1., 0.],\n",
      "       [0., 1., 0., 0.],\n",
      "       [1., 0., 0., 0.]])\n",
      "L:\n",
      "array([[ 1.      ,  0.      ,  0.      ,  0.      ],\n",
      "       [ 0.2     ,  1.      ,  0.      ,  0.      ],\n",
      "       [ 0.6     , -0.076923,  1.      ,  0.      ],\n",
      "       [ 0.6     , -0.076923,  0.75    ,  1.      ]])\n",
      "U:\n",
      "array([[ 5.      ,  3.      , -2.      ,  5.      ,  2.      ],\n",
      "       [ 0.      , -2.6     , -2.6     , -0.      , -9.4     ],\n",
      "       [ 0.      ,  0.      ,  4.      , -2.      ,  0.076923],\n",
      "       [ 0.      ,  0.      ,  0.      , -0.5     , -7.980769]])\n",
      "P,A:\n",
      "array([[ 5.,  3., -2.,  5.],\n",
      "       [ 1., -2., -3.,  1.],\n",
      "       [ 3.,  2.,  3.,  1.],\n",
      "       [ 3.,  2.,  2.,  1.]])\n",
      "L,U:\n",
      "array([[ 5.,  3., -2.,  5.,  2.],\n",
      "       [ 1., -2., -3.,  1., -9.],\n",
      "       [ 3.,  2.,  3.,  1.,  2.],\n",
      "       [ 3.,  2.,  2.,  1., -6.]])\n"
     ]
    }
   ],
   "source": [
    "#問題2\n",
    "#pivot付のLU分解\n",
    "from pprint import pprint\n",
    "import scipy.linalg as linalg   # SciPy Linear Algebra Library\n",
    "import numpy as np\n",
    "\n",
    "A = np.array([[3.0, 2, 2, 1],[3, 2, 3, 1],[1,-2,-3,1], [5,3,-2,5]])\n",
    "#A0 = np.array([[3.0, 2, 2, 1],[3, 2, 3, 1],[1,-2,-3,1], [5,3,-2,5]])\n",
    "b = np.array([[-6.0],[2],[-9],[2]])\n",
    "e_A = np.hstack((A, b))\n",
    "pprint(e_A)\n",
    "P, L, U = linalg.lu(e_A)  #LU分解\n",
    "\n",
    "print(\"P:\")\n",
    "pprint(P)\n",
    "\n",
    "print(\"L:\")\n",
    "pprint(L)\n",
    "\n",
    "print(\"U:\")\n",
    "pprint(U)\n",
    "\n",
    "print(\"P,A:\")\n",
    "e_B = np.dot(P,A)\n",
    "pprint(e_B)\n",
    "\n",
    "print(\"L,U:\")\n",
    "e_C = np.dot(L,U)\n",
    "pprint(e_C)"
   ]
  },
  {
   "cell_type": "code",
   "execution_count": 29,
   "metadata": {},
   "outputs": [
    {
     "name": "stdout",
     "output_type": "stream",
     "text": [
      "[-1.2       1.066667  0.407407  0.362963]\n",
      "[-1.567407  0.932346  0.436763  0.528779]\n",
      "[-1.579578  0.871345  0.46739   0.580064]\n",
      "[-1.58376   0.845435  0.478382  0.600844]\n",
      "[-1.584932  0.835236  0.482827  0.608976]\n",
      "[-1.585408  0.831202  0.484574  0.61219 ]\n",
      "[-1.585593  0.82961   0.485264  0.613458]\n",
      "[-1.585666  0.828981  0.485537  0.613959]\n",
      "[-1.585695  0.828733  0.485644  0.614157]\n",
      "[-1.585707  0.828635  0.485687  0.614235]\n",
      "[-1.585711  0.828597  0.485703  0.614266]\n",
      "[-1.585713  0.828581  0.48571   0.614278]\n",
      "[-1.585714  0.828575  0.485713  0.614283]\n",
      "[-1.585714  0.828573  0.485714  0.614284]\n",
      "[-1.585714  0.828572  0.485714  0.614285]\n",
      "[-1.585714  0.828572  0.485714  0.614286]\n",
      "[-1.585714  0.828572  0.485714  0.614286]\n",
      "[-1.585714  0.828571  0.485714  0.614286]\n",
      "[-1.585714  0.828571  0.485714  0.614286]\n",
      "[-1.585714  0.828571  0.485714  0.614286]\n",
      "\n",
      "ガウスザイデル法を用いた方が,ヤコビ法を用いた方よりも早く収束する.\n",
      "ヤコビ法は一連の計算が終わった後に解を更新するが、ガウスザイデル法は、1つのforループが終わるごとに解を更新する。\n",
      "そのため変数の個数は1つでよくなり,配列を必要としない.\n",
      "よって前のXの値を用いて次のXの値を求めるのでより早く解が定まる.\n"
     ]
    }
   ],
   "source": [
    "#問題3\n",
    "#Gauss-Seidel法\n",
    "#（Jacobi法はプリントNo.5の9ページにあります）\n",
    "import numpy as np\n",
    "np.set_printoptions(precision=6, suppress=True)\n",
    "\n",
    "#！！！配列ここで変える！！！\n",
    "A=np.array([[5,1,1,1],[1,3,1,1],[1,-2,-9,1],[1,3,-2,5]])\n",
    "b=np.array([-6,2,-7,3])\n",
    "n=4\n",
    "x0=np.zeros(n)\n",
    "\n",
    "for iter in range(0, 20):    #行数\n",
    "    for i in range(0, n):　　#列数\n",
    "        x1=b[i]\n",
    "        for j in range(0, n):\n",
    "            x1=x1-A[i][j]*x0[j]\n",
    "        x1=x1+A[i][i]*x0[i]\n",
    "        x1=x1/A[i][i]\n",
    "        x0[i]=x1\n",
    "    print(x0)\n",
    "    \n",
    "#Jacobi法と収束性の説明\n",
    "print(\"\\nガウスザイデル法を用いた方が,ヤコビ法を用いた方よりも早く収束する.\")\n",
    "print(\"ヤコビ法は一連の計算が終わった後に解を更新するが、ガウスザイデル法は、1つのforループが終わるごとに解を更新する。\")\n",
    "print(\"そのため変数の個数は1つでよくなり,配列を必要としない.\")\n",
    "print(\"よって前のXの値を用いて次のXの値を求めるのでより早く解が定まる.\")\n",
    "\n",
    "\n"
   ]
  }
 ],
 "metadata": {
  "kernelspec": {
   "display_name": "Python 3",
   "language": "python",
   "name": "python3"
  },
  "language_info": {
   "codemirror_mode": {
    "name": "ipython",
    "version": 3
   },
   "file_extension": ".py",
   "mimetype": "text/x-python",
   "name": "python",
   "nbconvert_exporter": "python",
   "pygments_lexer": "ipython3",
   "version": "3.7.3"
  }
 },
 "nbformat": 4,
 "nbformat_minor": 2
}
