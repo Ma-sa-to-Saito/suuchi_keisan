{
 "cells": [
  {
   "cell_type": "code",
   "execution_count": 2,
   "metadata": {},
   "outputs": [
    {
     "name": "stdout",
     "output_type": "stream",
     "text": [
      "[[-0.16666667  0.16666667  0.5       ]\n",
      " [-0.5         0.5         0.5       ]\n",
      " [-1.16666667  0.16666667  1.5       ]]\n"
     ]
    },
    {
     "data": {
      "text/plain": [
       "array([[1., 0., 0.],\n",
       "       [0., 1., 0.],\n",
       "       [0., 0., 1.]])"
      ]
     },
     "execution_count": 2,
     "metadata": {},
     "output_type": "execute_result"
    }
   ],
   "source": [
    "#1\n",
    "#逆行列の求め方\n",
    "from pprint import pprint\n",
    "import scipy.linalg as linalg   # SciPy Linear Algebra Library\n",
    "import numpy as np\n",
    "\n",
    "A = np.array([[4,-1,-1],[1,2,-1],[3,-1,0]])\n",
    "inv_A = linalg.inv(A)\n",
    "print(inv_A)\n",
    "\n",
    "np.dot(inv_A,A)"
   ]
  },
  {
   "cell_type": "code",
   "execution_count": 20,
   "metadata": {},
   "outputs": [
    {
     "data": {
      "image/png": "[encoded data removed]",
      "text/plain": [
       "<Figure size 432x288 with 1 Axes>"
      ]
     },
     "metadata": {
      "needs_background": "light"
     },
     "output_type": "display_data"
    }
   ],
   "source": [
    "#2\n",
    "%matplotlib inline\n",
    "import matplotlib.pyplot as plt\n",
    "#↓！！！！f(x)の関数！！！！変えるならここ！\n",
    "\n",
    "\n",
    "\n",
    "def func(x):\n",
    "    return -4*np.exp(-x)+2*np.exp(-2*x)\n",
    "\n",
    "def df(x):\n",
    "    return 4*np.exp(-x) - 4*np.exp(-2*x)\n",
    "\n",
    "from scipy.optimize import fsolve\n",
    "x0 = fsolve(func, -1.0)[0]\n",
    "\n",
    "x1=-1\n",
    "x2=1\n",
    "x = np.linspace(x1, x2, 100)\n",
    "y = func(x)\n",
    "plt.plot(x, y, color = 'k')\n",
    "plt.plot([x1,x2],[0,0])#青線\n",
    "plt.grid()\n",
    "plt.show()"
   ]
  },
  {
   "cell_type": "code",
   "execution_count": 21,
   "metadata": {},
   "outputs": [
    {
     "name": "stdout",
     "output_type": "stream",
     "text": [
      "             x1              x2              f1              f2\n",
      "  -1.0000000000   +0.0000000000   +3.9049848840   -2.0000000000\n",
      "  -1.0000000000   -0.5000000000   +3.9049848840   -1.1583214259\n",
      "  -0.7500000000   -0.5000000000   +0.4953780742   -1.1583214259\n",
      "  -0.7500000000   -0.6250000000   +0.4953780742   -0.4922979148\n",
      "  -0.7500000000   -0.6875000000   +0.4953780742   -0.0447964325\n",
      "  -0.7187500000   -0.6875000000   +0.2128474183   -0.0447964325\n",
      "  -0.7031250000   -0.6875000000   +0.0810265592   -0.0447964325\n",
      "  -0.6953125000   -0.6875000000   +0.0173789137   -0.0447964325\n",
      "  -0.6953125000   -0.6914062500   +0.0173789137   -0.0138911236\n",
      "  -0.6933593750   -0.6914062500   +0.0016980959   -0.0138911236\n",
      "  -0.6933593750   -0.6923828125   +0.0016980959   -0.0061079375\n",
      "\n"
     ]
    }
   ],
   "source": [
    "#二分法\n",
    "\n",
    "x1, x2 = -1,0\n",
    "f1, f2 = func(x1), func(x2)\n",
    "print('%+15s %+15s %+15s %+15s'  % ('x1','x2','f1','f2'))\n",
    "print('%+15.10f %+15.10f %+15.10f %+15.10f' % (x1,x2,f1,f2))\n",
    "\n",
    "list_bisec = [[0],[abs(x1-x0)]]\n",
    "for i in range(0, 10):\n",
    "    x = (x1 + x2)/2\n",
    "    f = func(x)\n",
    "    if (f*f1>=0.0):\n",
    "        x1, f1 = x, f\n",
    "        list_bisec[0].append(i)\n",
    "        list_bisec[1].append(abs(x1-x0))\n",
    "    else:\n",
    "        x2, f2 = x, f\n",
    "        list_bisec[0].append(i)\n",
    "        list_bisec[1].append(abs(x2-x0))\n",
    "\n",
    "    print('%+15.10f %+15.10f %+15.10f %+15.10f' % (x1,x2,f1,f2))\n",
    "\n",
    "list_bisec\n",
    "print()"
   ]
  },
  {
   "cell_type": "code",
   "execution_count": 24,
   "metadata": {},
   "outputs": [
    {
     "name": "stdout",
     "output_type": "stream",
     "text": [
      "-1.0000000000   +3.9049848840251204507012517\n",
      "-0.7909883534   +0.9068233052059522236731937\n",
      "-0.7057281263   +0.1025656393923117803979039\n",
      "-0.6933803632   +0.0018661139743176846650385\n",
      "-0.6931472621   +0.0000006522702786782019757\n",
      "-0.6931471806   +0.0000000000000799360577730\n",
      "-0.6931471806   +0.0000000000000000000000000\n",
      "-0.6931471806   +0.0000000000000000000000000\n",
      "-0.6931471806   +0.0000000000000000000000000\n",
      "-0.6931471806   +0.0000000000000000000000000\n",
      "-0.6931471806   +0.0000000000000000000000000\n",
      "\n"
     ]
    }
   ],
   "source": [
    "#ニュートン法\n",
    "x1 = -1\n",
    "f1 = func(x1)\n",
    "list_newton = [[0],[abs(x1-x0)]]\n",
    "print('%-15.10f %+24.25f' % (x1,f1))\n",
    "for i in range(0, 10):\n",
    "    x1 = x1 - f1 / df(x1)\n",
    "    f1 =func(x1)\n",
    "    print('%-15.10f %+24.25f' % (x1,f1))\n",
    "    list_newton[0].append(i)\n",
    "    list_newton[1].append(abs(x1-x0))\n",
    "\n",
    "list_newton\n",
    "print()"
   ]
  },
  {
   "cell_type": "code",
   "execution_count": 25,
   "metadata": {},
   "outputs": [
    {
     "data": {
      "image/png": "[encoded data removed]",
      "text/plain": [
       "<Figure size 432x288 with 1 Axes>"
      ]
     },
     "metadata": {
      "needs_background": "light"
     },
     "output_type": "display_data"
    }
   ],
   "source": [
    "%matplotlib inline\n",
    "import matplotlib.pyplot as plt\n",
    "\n",
    "X = list_bisec[0]\n",
    "Y = list_bisec[1]\n",
    "plt.plot(X, Y)\n",
    "\n",
    "X = list_newton[0]\n",
    "Y = list_newton[1]\n",
    "plt.plot(X, Y)\n",
    "\n",
    "plt.yscale(\"log\") # y軸を対数目盛に\n",
    "plt.show()"
   ]
  },
  {
   "cell_type": "code",
   "execution_count": 7,
   "metadata": {},
   "outputs": [],
   "source": [
    "#3\n",
    "from decimal import *\n",
    "\n",
    "def pretty_p(result,a,b,operator):\n",
    "    print('context.prec:{}'.format(getcontext().prec))\n",
    "    print(' %20.14f' % (a))\n",
    "    print( '%1s%20.14f' % (operator, b))\n",
    "    print('-----------')\n",
    "    print( ' %20.14f' % (result))\n",
    "\n",
    "    \n",
    "def waru(result,a,b,operator):\n",
    "    print('context.prec:{}'.format(getcontext().prec))\n",
    "    print(' %20.14f' % (a))\n",
    "    print( '%1s%20.14f' % (operator, b))\n",
    "    print('-----------')\n",
    "    print( ' %20.14f' % (result))"
   ]
  },
  {
   "cell_type": "code",
   "execution_count": 8,
   "metadata": {
    "scrolled": true
   },
   "outputs": [
    {
     "name": "stdout",
     "output_type": "stream",
     "text": [
      "context.prec:5\n",
      "     3.14150000000000\n",
      "-    3.12340000000000\n",
      "-----------\n",
      "     0.01810000000000\n",
      "context.prec:4\n",
      "     3.14200000000000\n",
      "-    3.12300000000000\n",
      "-----------\n",
      "     0.01900000000000\n",
      "context.prec:3\n",
      "     3.14000000000000\n",
      "-    3.12000000000000\n",
      "-----------\n",
      "     0.02000000000000\n",
      "context.prec:2\n",
      "     3.10000000000000\n",
      "-    3.10000000000000\n",
      "-----------\n",
      "     0.00000000000000\n"
     ]
    }
   ],
   "source": [
    "#5桁\n",
    "n = 5\n",
    "getcontext().prec = n\n",
    "\n",
    "#最後の「100」とかの値で有効数字を調整する\n",
    "a=Decimal('0.31415').quantize(Decimal(10) ** -n)*10\n",
    "b=Decimal('0.31234').quantize(Decimal(10) ** -n)*10\n",
    "pretty_p(a-b,a,b,'-')\n",
    "\n",
    "#4桁\n",
    "n = 4\n",
    "getcontext().prec = n\n",
    "\n",
    "a=Decimal('0.31415').quantize(Decimal(10) ** -n)*10\n",
    "b=Decimal('0.31234').quantize(Decimal(10) ** -n)*10\n",
    "pretty_p(a-b,a,b,'-')\n",
    "\n",
    "#3桁\n",
    "n = 3\n",
    "getcontext().prec = n\n",
    "\n",
    "a=Decimal('0.31415').quantize(Decimal(10) ** -n)*10\n",
    "b=Decimal('0.31234').quantize(Decimal(10) ** -n)*10\n",
    "pretty_p(a-b,a,b,'-')\n",
    "\n",
    "#2桁\n",
    "n = 2\n",
    "getcontext().prec = n\n",
    "\n",
    "a=Decimal('0.31415').quantize(Decimal(10) ** -n)*10\n",
    "b=Decimal('0.31234').quantize(Decimal(10) ** -n)*10\n",
    "pretty_p(a-b,a,b,'-')"
   ]
  },
  {
   "cell_type": "code",
   "execution_count": 9,
   "metadata": {
    "scrolled": true
   },
   "outputs": [
    {
     "name": "stdout",
     "output_type": "stream",
     "text": [
      "context.prec:5\n",
      "     0.01810000000000\n",
      "/    0.80000000000000\n",
      "-----------\n",
      "    44.19900000000000\n",
      "context.prec:4\n",
      "     0.01900000000000\n",
      "/    0.80000000000000\n",
      "-----------\n",
      "    42.11000000000000\n",
      "context.prec:3\n",
      "     0.02000000000000\n",
      "/    0.80000000000000\n",
      "-----------\n",
      "    40.00000000000000\n"
     ]
    },
    {
     "ename": "DivisionByZero",
     "evalue": "[<class 'decimal.DivisionByZero'>]",
     "output_type": "error",
     "traceback": [
      "\u001b[1;31m---------------------------------------------------------------------------\u001b[0m",
      "\u001b[1;31mDivisionByZero\u001b[0m                            Traceback (most recent call last)",
      "\u001b[1;32m<ipython-input-9-9ab2e377d87c>\u001b[0m in \u001b[0;36m<module>\u001b[1;34m\u001b[0m\n\u001b[0;32m     34\u001b[0m \u001b[1;33m\u001b[0m\u001b[0m\n\u001b[0;32m     35\u001b[0m \u001b[1;31m#符号の調整（割り算）\u001b[0m\u001b[1;33m\u001b[0m\u001b[1;33m\u001b[0m\u001b[1;33m\u001b[0m\u001b[0m\n\u001b[1;32m---> 36\u001b[1;33m \u001b[0mwaru\u001b[0m\u001b[1;33m(\u001b[0m\u001b[0mc\u001b[0m\u001b[1;33m/\u001b[0m\u001b[1;33m(\u001b[0m\u001b[0ma\u001b[0m\u001b[1;33m-\u001b[0m\u001b[0mb\u001b[0m\u001b[1;33m)\u001b[0m\u001b[1;33m,\u001b[0m\u001b[0ma\u001b[0m\u001b[1;33m-\u001b[0m\u001b[0mb\u001b[0m\u001b[1;33m,\u001b[0m\u001b[0mc\u001b[0m\u001b[1;33m,\u001b[0m\u001b[1;34m'/'\u001b[0m\u001b[1;33m)\u001b[0m\u001b[1;33m\u001b[0m\u001b[1;33m\u001b[0m\u001b[0m\n\u001b[0m",
      "\u001b[1;31mDivisionByZero\u001b[0m: [<class 'decimal.DivisionByZero'>]"
     ]
    }
   ],
   "source": [
    "n = 5\n",
    "getcontext().prec = n\n",
    "\n",
    "a=Decimal('0.31415').quantize(Decimal(10) ** -n)*10\n",
    "b=Decimal('0.31234').quantize(Decimal(10) ** -n)*10\n",
    "c=Decimal('0.80000').quantize(Decimal(10) ** -n)\n",
    "waru(c/(a-b),a-b,c,'/')\n",
    "\n",
    "#4桁\n",
    "n = 4\n",
    "getcontext().prec = n\n",
    "\n",
    "a=Decimal('0.31415').quantize(Decimal(10) ** -n)*10\n",
    "b=Decimal('0.31234').quantize(Decimal(10) ** -n)*10\n",
    "c=Decimal('0.80000').quantize(Decimal(10) ** -n)\n",
    "waru(c/(a-b),a-b,c,'/')\n",
    "\n",
    "#3桁\n",
    "n = 3\n",
    "getcontext().prec = n\n",
    "\n",
    "a=Decimal('0.31415').quantize(Decimal(10) ** -n)*10\n",
    "b=Decimal('0.31234').quantize(Decimal(10) ** -n)*10\n",
    "c=Decimal('0.80000').quantize(Decimal(10) ** -n)\n",
    "waru(c/(a-b),a-b,c,'/')\n",
    "\n",
    "#2桁\n",
    "n = 2\n",
    "getcontext().prec = n\n",
    "\n",
    "a=Decimal('0.31415').quantize(Decimal(10) ** -n)*10\n",
    "b=Decimal('0.31234').quantize(Decimal(10) ** -n)*10\n",
    "c=Decimal('0.80000').quantize(Decimal(10) ** -n)\n",
    "\n",
    "#符号の調整（割り算）\n",
    "waru(c/(a-b),a-b,c,'/')"
   ]
  },
  {
   "cell_type": "code",
   "execution_count": 10,
   "metadata": {},
   "outputs": [
    {
     "name": "stdout",
     "output_type": "stream",
     "text": [
      "[-5.65471459e+02 -8.85879000e-01  4.73656429e-01]\n"
     ]
    },
    {
     "data": {
      "image/png": "[encoded data removed]",
      "text/plain": [
       "<Figure size 432x288 with 1 Axes>"
      ]
     },
     "metadata": {
      "needs_background": "light"
     },
     "output_type": "display_data"
    }
   ],
   "source": [
    "#4\n",
    "\n",
    "%matplotlib inline\n",
    "import numpy as np\n",
    "import matplotlib.pyplot as plt\n",
    "from scipy.optimize import curve_fit\n",
    "\n",
    "#！！！元の関数を変えてね！！！\n",
    "def f(x, a0, a1 ,a2):\n",
    "    return a0 + a1*x + a2*x**2\n",
    "\n",
    "xdata = np.array([-2,-1,0,1,2])\n",
    "ydata = np.array([-561.78952,-564.14261,-565.47273,-565.8513,-565.36457])\n",
    "plt.plot(xdata,ydata, 'o', color='r')\n",
    "\n",
    "params, cov = curve_fit(f, xdata, ydata)\n",
    "print(params)\n",
    "\n",
    "x =np.linspace(-2,2,20)\n",
    "y = f(x,params[0],params[1],params[2])\n",
    "plt.plot(x,y, color='b')\n",
    "\n",
    "plt.grid()\n",
    "plt.show()"
   ]
  },
  {
   "cell_type": "code",
   "execution_count": 30,
   "metadata": {},
   "outputs": [],
   "source": [
    "#4\n",
    "%matplotlib inline\n",
    "import matplotlib.pyplot as plt\n",
    "\n",
    "def my_plot(xx, vv, tt):\n",
    "    plt.plot(tt, xx, color = 'b', linestyle='--',label=\"height\")\n",
    "    plt.plot(tt, vv, color = 'r', label=\"velocity\")\n",
    "    plt.legend()\n",
    "    plt.xlabel('time')\n",
    "    plt.ylabel('height and velocity')\n",
    "    plt.grid()\n",
    "    plt.show()"
   ]
  },
  {
   "cell_type": "code",
   "execution_count": 32,
   "metadata": {},
   "outputs": [
    {
     "data": {
      "image/png": "[encoded data removed]",
      "text/plain": [
       "<Figure size 432x288 with 1 Axes>"
      ]
     },
     "metadata": {
      "needs_background": "light"
     },
     "output_type": "display_data"
    }
   ],
   "source": [
    "from sympy import *\n",
    "v, f = symbols('v f', cls=Function)\n",
    "cc, t, m, x, g= symbols('cc t m x g')\n",
    "# dsolve(f(x).diff(x, x) + f(x), f(x))\n",
    "dsolve(v(t).diff(t)+cc/m*v(t)+g,v(t))\n",
    "\n",
    "def euler2(x0, v0):\n",
    "  v1 = v0 + (-cc * v0- g) * dt\n",
    "  x1 = x0 + v0 * dt\n",
    "  return [x1, v1]\n",
    "\n",
    "g, dt, cc=9.8, 0.1, 1.0 #重力,時間の刻み,空気抵抗\n",
    "# tt,xx,vv=[0.0],[0.0],[-10]\n",
    "tt,xx,vv=[0.0],[1000.0],[0.0]\n",
    "t = 0.0\n",
    "for i in range(0,1200):\n",
    "  t += dt\n",
    "  x, v = euler2(xx[-1],vv[-1])\n",
    "  tt.append(t)\n",
    "  xx.append(x)\n",
    "  vv.append(v)\n",
    "\n",
    "my_plot(xx, vv, tt)"
   ]
  },
  {
   "cell_type": "code",
   "execution_count": 38,
   "metadata": {},
   "outputs": [
    {
     "name": "stdout",
     "output_type": "stream",
     "text": [
      "0.3999999999914615 -9.799999999999994\n",
      "-0.5800000000085379 -9.799999999999994\n"
     ]
    }
   ],
   "source": [
    "print(xx[1030],vv[1030])#答え 103秒後 速度は-9.78\n",
    "print(xx[1031],vv[1031])"
   ]
  }
 ],
 "metadata": {
  "kernelspec": {
   "display_name": "Python 3",
   "language": "python",
   "name": "python3"
  },
  "language_info": {
   "codemirror_mode": {
    "name": "ipython",
    "version": 3
   },
   "file_extension": ".py",
   "mimetype": "text/x-python",
   "name": "python",
   "nbconvert_exporter": "python",
   "pygments_lexer": "ipython3",
   "version": "3.7.3"
  }
 },
 "nbformat": 4,
 "nbformat_minor": 2
}
