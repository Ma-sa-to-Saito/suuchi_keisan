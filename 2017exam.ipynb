{
 "cells": [
  {
   "cell_type": "code",
   "execution_count": 4,
   "metadata": {},
   "outputs": [
    {
     "name": "stdout",
     "output_type": "stream",
     "text": [
      "固有値\n",
      "array([1., 3., 2.])\n",
      "固有ベクトル\n",
      "array([[-0.40825, -0.70711, -0.57735],\n",
      "       [-0.40825, -0.     , -0.57735],\n",
      "       [-0.8165 , -0.70711, -0.57735]])\n"
     ]
    }
   ],
   "source": [
    "#1\n",
    "%matplotlib inline\n",
    "import matplotlib.pyplot as plt\n",
    "import numpy as np\n",
    "def draw_projcetion_line_points(x,y):\n",
    "    p0 = np.array([x,y])\n",
    "    p1 = np.dot(aa,p0)\n",
    "\n",
    "    plt.plot(p0[0],p0[1],'o',color='r')\n",
    "    plt.plot(p1[0],p1[1],'o',color='b')\n",
    "    plt.plot([p0[0],p1[0]],[p0[1],p1[1]],\n",
    "             color='k', linestyle='-', linewidth=1)\n",
    "\n",
    "def draw_axes(x_min,x_max,y_min,y_max):\n",
    "    plt.hlines(0, x_min, x_max, color='k', linestyle='-',\n",
    "               linewidth=1)\n",
    "    plt.vlines(0, y_min, y_max, color='k', linestyle='-',\n",
    "               linewidth=1)\n",
    "    \n",
    "import numpy as np\n",
    "from pprint import pprint\n",
    "import scipy.linalg as linalg\n",
    "\n",
    "np.set_printoptions(precision=5, suppress=True)\n",
    "\n",
    "#！！！！配列です！！！！変えてね！！！！\n",
    "aa = np.array([[4,-1,-1], [1,2,-1],[3,-1,0]])\n",
    "#pprint(aa)\n",
    "#a = np.array([[3,2/3], [2/3,2]])\n",
    "l,P = np.linalg.eig(aa)\n",
    "print(\"固有値\")\n",
    "pprint(l) #！！！固有値！！！\n",
    "print(\"固有ベクトル\")\n",
    "pprint(P) #！！！固有ベクトル！！！"
   ]
  },
  {
   "cell_type": "code",
   "execution_count": 5,
   "metadata": {},
   "outputs": [],
   "source": [
    "#2\n",
    "from decimal import *\n",
    "from numpy import sqrt\n",
    "def solve_normal_formula(a,b,c):\n",
    "    x0=(-b-sqrt(b**2-4*a*c))/(2*a)\n",
    "    x1=(-b+sqrt(b**2-4*a*c))/(2*a)\n",
    "    return (x0,x1)\n",
    "\n",
    "def solve_precise_formula(a,b,c):\n",
    "    x0=(-b-sqrt(b**2-4*a*c))/(2*a)\n",
    "    x1=c/(a*x0)\n",
    "    return (x0,x1)"
   ]
  },
  {
   "cell_type": "code",
   "execution_count": 6,
   "metadata": {},
   "outputs": [
    {
     "name": "stdout",
     "output_type": "stream",
     "text": [
      "(Decimal('-39.95'), Decimal('-0.05'))\n",
      "(Decimal('-39.95'), Decimal('-0.05006'))\n"
     ]
    }
   ],
   "source": [
    "getcontext().prec = 4\n",
    "\n",
    "print(solve_normal_formula(Decimal('1'),\n",
    "                           Decimal('40'),\n",
    "                           Decimal('2')))\n",
    "print(solve_precise_formula(Decimal('1'),\n",
    "                            Decimal('40'),\n",
    "                            Decimal('2')))"
   ]
  },
  {
   "cell_type": "code",
   "execution_count": 42,
   "metadata": {},
   "outputs": [
    {
     "name": "stdout",
     "output_type": "stream",
     "text": [
      "1/3\n",
      "1 0.5 0.16666666666666669\n",
      "1 0.375 0.16666666666666669\n",
      "2 0.34375 0.041666666666666685\n",
      "4 0.3359375 0.010416666666666685\n",
      "8 0.333984375 0.002604166666666685\n",
      "16 0.33349609375 0.0006510416666666852\n",
      "32 0.3333740234375 0.00016276041666668517\n",
      "64 0.333343505859375 4.069010416668517e-05\n",
      "128 0.33333587646484375 1.017252604168517e-05\n",
      "256 0.33333396911621094 2.5431315104351704e-06\n",
      "512 0.33333349227905273 6.357828776226704e-07\n"
     ]
    },
    {
     "data": {
      "image/png": "[encoded data removed]",
      "text/plain": [
       "<Figure size 432x288 with 1 Axes>"
      ]
     },
     "metadata": {
      "needs_background": "light"
     },
     "output_type": "display_data"
    }
   ],
   "source": [
    "#3\n",
    "import numpy as np\n",
    "from sympy import *\n",
    "\n",
    "def func(x):\n",
    "    return x**2\n",
    "\n",
    "x=symbols('x')\n",
    "print(integrate(x**2,(x,0,1)))\n",
    "\n",
    "#台形則\n",
    "def trap(N):\n",
    "    x0, xn =0.0, 1.0\n",
    "\n",
    "    h = (xn-x0)/N\n",
    "    S = func(x0)/2.0\n",
    "    for i in range(1, N):\n",
    "        xi = x0 + i*h\n",
    "        dS = func(xi)\n",
    "        S = S + dS\n",
    "\n",
    "    S = S + func(xn)/2.0\n",
    "    return S*h\n",
    "\n",
    "x, y = [], []\n",
    "for i in range(0,11):\n",
    "    x.append(2**i)\n",
    "    y.append(abs(trap(2**i)-1/3))\n",
    "    \n",
    "    print(x[i-1],trap(2**i),y[i-1])\n",
    "\n",
    "#片対数プロット\n",
    "plt.plot(x, y, color = 'r')\n",
    "plt.yscale('log')\n",
    "plt.grid()\n",
    "plt.show()"
   ]
  },
  {
   "cell_type": "code",
   "execution_count": 52,
   "metadata": {},
   "outputs": [
    {
     "name": "stdout",
     "output_type": "stream",
     "text": [
      "[17.34679]\n"
     ]
    },
    {
     "data": {
      "image/png": "[encoded data removed]",
      "text/plain": [
       "<Figure size 432x288 with 1 Axes>"
      ]
     },
     "metadata": {
      "needs_background": "light"
     },
     "output_type": "display_data"
    },
    {
     "name": "stdout",
     "output_type": "stream",
     "text": [
      "[-2.40099080206130, 2.40099080206130]\n"
     ]
    }
   ],
   "source": [
    "#4\n",
    "\n",
    "%matplotlib inline\n",
    "import numpy as np\n",
    "import matplotlib.pyplot as plt\n",
    "from scipy.optimize import curve_fit\n",
    "\n",
    "#！！！元の関数を変えてね！！！\n",
    "def f(x, a0):\n",
    "    return a0*x**2\n",
    "\n",
    "xdata = np.array([0,0.751,1.113,1.504])\n",
    "ydata = np.array([0,10,20,40])\n",
    "plt.plot(xdata,ydata, 'o', color='r')\n",
    "\n",
    "params, cov = curve_fit(f, xdata, ydata)\n",
    "print(params)\n",
    "\n",
    "x =np.linspace(0,4,20)\n",
    "y = f(x,params[0])\n",
    "plt.plot(x,y, color='b')\n",
    "\n",
    "plt.grid()\n",
    "plt.show()\n",
    "\n",
    "#100mを通過する時間\n",
    "a=params[0]\n",
    "t=symbols('t')\n",
    "ans=solve(f(t,a)-100,t)\n",
    "print(ans)"
   ]
  },
  {
   "cell_type": "code",
   "execution_count": 60,
   "metadata": {},
   "outputs": [
    {
     "data": {
      "image/png": "[encoded data removed]",
      "text/plain": [
       "<Figure size 432x288 with 1 Axes>"
      ]
     },
     "metadata": {
      "needs_background": "light"
     },
     "output_type": "display_data"
    }
   ],
   "source": [
    "#5\n",
    "\n",
    "import matplotlib.pyplot as plt\n",
    "\n",
    "def euler(x0, v0):\n",
    "  v1 = v0 - g * dt\n",
    "  x1 = x0 + v0 * dt\n",
    "  return x1, v1\n",
    "\n",
    "def my_plot(xx, vv, tt):\n",
    "    plt.plot(tt, xx, color = 'b', linestyle='--',label=\"height\")\n",
    "    plt.plot(tt, vv, color = 'r', label=\"velocity\")\n",
    "    plt.legend()\n",
    "    plt.xlabel('time')\n",
    "    plt.ylabel('height and velocity')\n",
    "    plt.grid()\n",
    "    plt.show()\n",
    "    \n",
    "#g, dt =9.8, 0.01\n",
    "g, dt =9.8, 0.01  ##ここ変えたよ！！！　g:重力加速度 dt:きざみ\n",
    "# tt,xx,vv=[0.0],[10.0],[0.0] #for compare rain_drop\n",
    "tt,xx,vv=[0.0],[0.0],[19.6]  #xx:高さ\n",
    "#tt,xx,vv=[10.0],[0.0],[0.0]\n",
    "\n",
    "t = 0.0\n",
    "\n",
    "#！！！表示されるサイズによって回数かえてね！！！\n",
    "#(元はin range(0, 220))\n",
    "for i in range(0,500): #250 for compare rain_drop\n",
    "  t += dt\n",
    "  x, v = euler(xx[-1],vv[-1])\n",
    "  tt.append(t)\n",
    "  xx.append(x)\n",
    "  vv.append(v)\n",
    "\n",
    "# print(xx)\n",
    "# print(vv)\n",
    "my_plot(xx, vv, tt)"
   ]
  },
  {
   "cell_type": "code",
   "execution_count": 70,
   "metadata": {},
   "outputs": [
    {
     "data": {
      "image/png": "[encoded data removed]",
      "text/plain": [
       "<Figure size 432x288 with 1 Axes>"
      ]
     },
     "metadata": {
      "needs_background": "light"
     },
     "output_type": "display_data"
    }
   ],
   "source": [
    "#部分的にプロット\n",
    "\n",
    "plt.plot(tt,xx,color='b')\n",
    "plt.plot(tt,vv,color='r')\n",
    "plt.xlim(3.98,4.03)\n",
    "plt.ylim(-1,1)\n",
    "\n",
    "plt.grid()\n",
    "plt.show()"
   ]
  }
 ],
 "metadata": {
  "kernelspec": {
   "display_name": "Python 3",
   "language": "python",
   "name": "python3"
  },
  "language_info": {
   "codemirror_mode": {
    "name": "ipython",
    "version": 3
   },
   "file_extension": ".py",
   "mimetype": "text/x-python",
   "name": "python",
   "nbconvert_exporter": "python",
   "pygments_lexer": "ipython3",
   "version": "3.7.3"
  }
 },
 "nbformat": 4,
 "nbformat_minor": 2
}
