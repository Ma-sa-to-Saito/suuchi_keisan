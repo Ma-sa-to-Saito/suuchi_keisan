{
 "cells": [
  {
   "cell_type": "code",
   "execution_count": 6,
   "metadata": {},
   "outputs": [
    {
     "name": "stdout",
     "output_type": "stream",
     "text": [
      "固有値 A：\n",
      "[ 1.000  9.000  2.000]\n",
      "固有ベクトル（対角化行列） P：\n",
      "[[-0.905  0.229 -0.707]\n",
      " [-0.302  0.688  0.000]\n",
      " [ 0.302 -0.688  0.707]]\n"
     ]
    }
   ],
   "source": [
    "#問題1\n",
    "import numpy as np\n",
    "#！！！配列変える！！！\n",
    "A = np.array([[0,1,-2],[-3,7,-3],[3,-5,5]])\n",
    "l, P = np.linalg.eig( A )\n",
    "print(\"固有値 A：\")\n",
    "print(l)\n",
    "print(\"固有ベクトル（対角化行列） P：\")\n",
    "print(P)"
   ]
  },
  {
   "cell_type": "code",
   "execution_count": 7,
   "metadata": {},
   "outputs": [
    {
     "name": "stdout",
     "output_type": "stream",
     "text": [
      "対角化：\n",
      "array([[ 1.,  0.,  0.],\n",
      "       [-0.,  9., -0.],\n",
      "       [ 0.,  0.,  2.]])\n"
     ]
    }
   ],
   "source": [
    "from pprint import pprint\n",
    "print(\"対角化：\")\n",
    "dA = np.dot(np.linalg.inv(P),np.dot(A,P))\n",
    "np.set_printoptions(precision=3, suppress=True)\n",
    "pprint(dA)"
   ]
  },
  {
   "cell_type": "code",
   "execution_count": 8,
   "metadata": {},
   "outputs": [
    {
     "name": "stdout",
     "output_type": "stream",
     "text": [
      "array([0.35 , 0.167, 0.117, 0.05 , 0.267, 0.05 , 0.   ])\n",
      "array([0.699+0.j, 0.383+0.j, 0.324+0.j, 0.243+0.j, 0.412+0.j, 0.103+0.j,\n",
      "       0.14 +0.j])\n"
     ]
    }
   ],
   "source": [
    "#問題2_1\n",
    "#ページランクを求める\n",
    "from pprint import pprint\n",
    "from numpy import array, zeros, diagflat, dot, transpose\n",
    "from scipy.linalg import eig\n",
    "\n",
    "#！！！ここ変える！！！\n",
    "#グラフを見て、→が出てたら1、そうでなければ0\n",
    "A = array([[0,1,1,1,1,0,1], #1→1,6は0、1→2,3,4,5,7は1\n",
    "           [1,0,0,0,0,0,0], #2→1は1、それ以外は0\n",
    "           [1,1,0,0,0,0,0],\n",
    "           [0,1,1,0,1,0,0],\n",
    "           [1,0,1,1,0,1,0],\n",
    "           [1,0,0,0,1,0,0],\n",
    "           [0,0,0,0,1,0,0]])\n",
    "diag = []\n",
    "for i in range(0,7): #ページの数（必要あれば変える）\n",
    "    tmp = 0.0\n",
    "    for j in range(0,7):\n",
    "        tmp += A[i,j]\n",
    "    diag.append(1.0/tmp)\n",
    "D = diagflat(diag)\n",
    "tA = dot(transpose(A),D)\n",
    "x = array([1,0,0,0,0,0,0])\n",
    "pprint(dot(tA,dot(tA,x)))\n",
    "l, V = eig(tA)\n",
    "v0 = V[:,0]\n",
    "pprint(v0)"
   ]
  },
  {
   "cell_type": "code",
   "execution_count": 9,
   "metadata": {},
   "outputs": [
    {
     "name": "stdout",
     "output_type": "stream",
     "text": [
      "array([[ 0.200,  0.000,  0.000,  0.000,  0.000,  0.000,  0.000],\n",
      "       [ 0.000,  1.000,  0.000,  0.000,  0.000,  0.000,  0.000],\n",
      "       [ 0.000,  0.000,  0.500,  0.000,  0.000,  0.000,  0.000],\n",
      "       [ 0.000,  0.000,  0.000,  0.333,  0.000,  0.000,  0.000],\n",
      "       [ 0.000,  0.000,  0.000,  0.000,  0.250,  0.000,  0.000],\n",
      "       [ 0.000,  0.000,  0.000,  0.000,  0.000,  0.500,  0.000],\n",
      "       [ 0.000,  0.000,  0.000,  0.000,  0.000,  0.000,  1.000]])\n",
      "array([[ 0.000,  1.000,  0.500,  0.000,  0.250,  0.500,  0.000],\n",
      "       [ 0.200,  0.000,  0.500,  0.333,  0.000,  0.000,  0.000],\n",
      "       [ 0.200,  0.000,  0.000,  0.333,  0.250,  0.000,  0.000],\n",
      "       [ 0.200,  0.000,  0.000,  0.000,  0.250,  0.000,  0.000],\n",
      "       [ 0.200,  0.000,  0.000,  0.333,  0.000,  0.500,  1.000],\n",
      "       [ 0.000,  0.000,  0.000,  0.000,  0.250,  0.000,  0.000],\n",
      "       [ 0.200,  0.000,  0.000,  0.000,  0.000,  0.000,  0.000]])\n"
     ]
    }
   ],
   "source": [
    "import numpy as np\n",
    "from pprint import pprint\n",
    "\n",
    "np.set_printoptions(formatter={'float': '{: 0.3f}'.format}) \n",
    "#pprint(A)\n",
    "pprint(D)\n",
    "#pprint(transpose(A))\n",
    "pprint(tA)\n",
    "x = array([1,0,0,0,0,0,0])\n",
    "#pprint(x)\n",
    "#pprint(dot(tA,dot(tA,dot(tA,x))))\n",
    "l, V = eig(tA)\n",
    "v0 = V[:,0]\n",
    "#pprint(v0)"
   ]
  },
  {
   "cell_type": "code",
   "execution_count": 13,
   "metadata": {},
   "outputs": [
    {
     "name": "stdout",
     "output_type": "stream",
     "text": [
      "array([ 0.911,  0.498,  0.422,  0.316,  0.537,  0.134,  0.182])\n"
     ]
    }
   ],
   "source": [
    "#問題2_2\n",
    "#反復法でのページランク\n",
    "import numpy as np\n",
    "from pprint import pprint\n",
    "\n",
    "np.set_printoptions(formatter={'float': '{: 0.3f}'.format}) \n",
    "\n",
    "x = array([1,0,1,1,0,0,0]) ##？？？\n",
    "\n",
    "for i in range(1,100):\n",
    "    bef = x\n",
    "    x = dot(tA,x)\n",
    "    if sum(abs(bef-x))<0.001:\n",
    "        break\n",
    "pprint(x)"
   ]
  },
  {
   "cell_type": "code",
   "execution_count": null,
   "metadata": {},
   "outputs": [],
   "source": []
  }
 ],
 "metadata": {
  "kernelspec": {
   "display_name": "Python 3",
   "language": "python",
   "name": "python3"
  },
  "language_info": {
   "codemirror_mode": {
    "name": "ipython",
    "version": 3
   },
   "file_extension": ".py",
   "mimetype": "text/x-python",
   "name": "python",
   "nbconvert_exporter": "python",
   "pygments_lexer": "ipython3",
   "version": "3.7.3"
  }
 },
 "nbformat": 4,
 "nbformat_minor": 2
}
