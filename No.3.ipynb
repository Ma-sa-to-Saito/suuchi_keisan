{
 "cells": [
  {
   "cell_type": "code",
   "execution_count": 13,
   "metadata": {},
   "outputs": [
    {
     "name": "stdout",
     "output_type": "stream",
     "text": [
      "context.prec:10\n",
      "    23.17300000000000\n",
      "-   23.09400000000000\n",
      "-----------\n",
      "     0.07900000000000\n"
     ]
    }
   ],
   "source": [
    "from decimal import *\n",
    "\n",
    "def pretty_p(result,a,b,operator):\n",
    "    print('context.prec:{}'.format(getcontext().prec))\n",
    "    print(' %20.14f' % (a))\n",
    "    print( '%1s%20.14f' % (operator, b))\n",
    "    print('-----------')\n",
    "    print( ' %20.14f' % (result))\n",
    "\n",
    "    \n",
    "def waru(result,a,b,operator):\n",
    "    print('context.prec:{}'.format(getcontext().prec))\n",
    "    print(' %20.14f' % (a))\n",
    "    print( '%1s%20.14f' % (operator, b))\n",
    "    print('-----------')\n",
    "    print( ' %20.14f' % (result))\n",
    "\n",
    "n = 10\n",
    "getcontext().prec = n\n",
    "\n",
    "#数字＆符号変えるならここ！！\n",
    "a=Decimal('0.23173').quantize(Decimal(10) ** -n)*100\n",
    "b=Decimal('0.23094').quantize(Decimal(10) ** -n)*100\n",
    "pretty_p(a-b,a,b,'-')\n"
   ]
  },
  {
   "cell_type": "code",
   "execution_count": 11,
   "metadata": {},
   "outputs": [
    {
     "name": "stdout",
     "output_type": "stream",
     "text": [
      "context.prec:5\n",
      "    23.17300000000000\n",
      "-   23.09400000000000\n",
      "-----------\n",
      "     0.07900000000000\n",
      "context.prec:4\n",
      "    23.17000000000000\n",
      "-   23.09000000000000\n",
      "-----------\n",
      "     0.08000000000000\n",
      "context.prec:3\n",
      "    23.20000000000000\n",
      "-   23.10000000000000\n",
      "-----------\n",
      "     0.10000000000000\n",
      "context.prec:2\n",
      "    23.00000000000000\n",
      "-   23.00000000000000\n",
      "-----------\n",
      "     0.00000000000000\n"
     ]
    }
   ],
   "source": [
    "#問題1_1\n",
    "# n：桁数\n",
    "#5桁\n",
    "n = 5\n",
    "getcontext().prec = n\n",
    "\n",
    "#最後の「100」とかの値で有効数字を調整する\n",
    "a=Decimal('0.23173').quantize(Decimal(10) ** -n)*100\n",
    "b=Decimal('0.23094').quantize(Decimal(10) ** -n)*100\n",
    "pretty_p(a-b,a,b,'-')\n",
    "\n",
    "#4桁\n",
    "n = 4\n",
    "getcontext().prec = n\n",
    "\n",
    "a=Decimal('0.23173').quantize(Decimal(10) ** -n)*100\n",
    "b=Decimal('0.23094').quantize(Decimal(10) ** -n)*100\n",
    "pretty_p(a-b,a,b,'-')\n",
    "\n",
    "#3桁\n",
    "n = 3\n",
    "getcontext().prec = n\n",
    "\n",
    "a=Decimal('0.23173').quantize(Decimal(10) ** -n)*100\n",
    "b=Decimal('0.23094').quantize(Decimal(10) ** -n)*100\n",
    "pretty_p(a-b,a,b,'-')\n",
    "\n",
    "#2桁\n",
    "n = 2\n",
    "getcontext().prec = n\n",
    "\n",
    "a=Decimal('0.23173').quantize(Decimal(10) ** -n)*100\n",
    "b=Decimal('0.23094').quantize(Decimal(10) ** -n)*100\n",
    "#符号の調整（引き算）\n",
    "pretty_p(a-b,a,b,'-')\n"
   ]
  },
  {
   "cell_type": "code",
   "execution_count": 16,
   "metadata": {},
   "outputs": [
    {
     "name": "stdout",
     "output_type": "stream",
     "text": [
      "context.prec:5\n",
      "     0.07900000000000\n",
      "/    0.81321000000000\n",
      "-----------\n",
      "    10.29400000000000\n",
      "context.prec:4\n",
      "     0.08000000000000\n",
      "/    0.81320000000000\n",
      "-----------\n",
      "    10.16000000000000\n",
      "context.prec:3\n",
      "     0.10000000000000\n",
      "/    0.81300000000000\n",
      "-----------\n",
      "     8.13000000000000\n"
     ]
    },
    {
     "ename": "DivisionByZero",
     "evalue": "[<class 'decimal.DivisionByZero'>]",
     "output_type": "error",
     "traceback": [
      "\u001b[1;31m---------------------------------------------------------------------------\u001b[0m",
      "\u001b[1;31mDivisionByZero\u001b[0m                            Traceback (most recent call last)",
      "\u001b[1;32m<ipython-input-16-cf1c89a4b912>\u001b[0m in \u001b[0;36m<module>\u001b[1;34m\u001b[0m\n\u001b[0;32m     29\u001b[0m \u001b[0mb\u001b[0m\u001b[1;33m=\u001b[0m\u001b[0mDecimal\u001b[0m\u001b[1;33m(\u001b[0m\u001b[1;34m'0.23094'\u001b[0m\u001b[1;33m)\u001b[0m\u001b[1;33m.\u001b[0m\u001b[0mquantize\u001b[0m\u001b[1;33m(\u001b[0m\u001b[0mDecimal\u001b[0m\u001b[1;33m(\u001b[0m\u001b[1;36m10\u001b[0m\u001b[1;33m)\u001b[0m \u001b[1;33m**\u001b[0m \u001b[1;33m-\u001b[0m\u001b[0mn\u001b[0m\u001b[1;33m)\u001b[0m\u001b[1;33m*\u001b[0m\u001b[1;36m100\u001b[0m\u001b[1;33m\u001b[0m\u001b[1;33m\u001b[0m\u001b[0m\n\u001b[0;32m     30\u001b[0m \u001b[0mc\u001b[0m\u001b[1;33m=\u001b[0m\u001b[0mDecimal\u001b[0m\u001b[1;33m(\u001b[0m\u001b[1;34m'0.81321'\u001b[0m\u001b[1;33m)\u001b[0m\u001b[1;33m.\u001b[0m\u001b[0mquantize\u001b[0m\u001b[1;33m(\u001b[0m\u001b[0mDecimal\u001b[0m\u001b[1;33m(\u001b[0m\u001b[1;36m10\u001b[0m\u001b[1;33m)\u001b[0m \u001b[1;33m**\u001b[0m \u001b[1;33m-\u001b[0m\u001b[0mn\u001b[0m\u001b[1;33m)\u001b[0m\u001b[1;33m\u001b[0m\u001b[1;33m\u001b[0m\u001b[0m\n\u001b[1;32m---> 31\u001b[1;33m \u001b[0mwaru\u001b[0m\u001b[1;33m(\u001b[0m\u001b[0mc\u001b[0m\u001b[1;33m/\u001b[0m\u001b[1;33m(\u001b[0m\u001b[0ma\u001b[0m\u001b[1;33m-\u001b[0m\u001b[0mb\u001b[0m\u001b[1;33m)\u001b[0m\u001b[1;33m,\u001b[0m\u001b[0ma\u001b[0m\u001b[1;33m-\u001b[0m\u001b[0mb\u001b[0m\u001b[1;33m,\u001b[0m\u001b[0mc\u001b[0m\u001b[1;33m,\u001b[0m\u001b[1;34m'/'\u001b[0m\u001b[1;33m)\u001b[0m\u001b[1;33m\u001b[0m\u001b[1;33m\u001b[0m\u001b[0m\n\u001b[0m",
      "\u001b[1;31mDivisionByZero\u001b[0m: [<class 'decimal.DivisionByZero'>]"
     ]
    }
   ],
   "source": [
    "#問題1_2\n",
    "#今回はerrorが出て正解の問題！\n",
    "#5桁\n",
    "n = 5\n",
    "getcontext().prec = n\n",
    "\n",
    "a=Decimal('0.23173').quantize(Decimal(10) ** -n)*100\n",
    "b=Decimal('0.23094').quantize(Decimal(10) ** -n)*100\n",
    "c=Decimal('0.81321').quantize(Decimal(10) ** -n)\n",
    "waru(c/(a-b),a-b,c,'/')\n",
    "\n",
    "#4桁\n",
    "n = 4\n",
    "getcontext().prec = n\n",
    "\n",
    "a=Decimal('0.23173').quantize(Decimal(10) ** -n)*100\n",
    "b=Decimal('0.23094').quantize(Decimal(10) ** -n)*100\n",
    "c=Decimal('0.81321').quantize(Decimal(10) ** -n)\n",
    "waru(c/(a-b),a-b,c,'/')\n",
    "\n",
    "#3桁\n",
    "n = 3\n",
    "getcontext().prec = n\n",
    "\n",
    "a=Decimal('0.23173').quantize(Decimal(10) ** -n)*100\n",
    "b=Decimal('0.23094').quantize(Decimal(10) ** -n)*100\n",
    "c=Decimal('0.81321').quantize(Decimal(10) ** -n)\n",
    "waru(c/(a-b),a-b,c,'/')\n",
    "\n",
    "#2桁\n",
    "n = 2\n",
    "getcontext().prec = n\n",
    "\n",
    "a=Decimal('0.23173').quantize(Decimal(10) ** -n)*100\n",
    "b=Decimal('0.23094').quantize(Decimal(10) ** -n)*100\n",
    "c=Decimal('0.81321').quantize(Decimal(10) ** -n)\n",
    "\n",
    "#符号の調整（割り算）\n",
    "waru(c/(a-b),a-b,c,'/')"
   ]
  },
  {
   "cell_type": "code",
   "execution_count": 31,
   "metadata": {},
   "outputs": [
    {
     "name": "stdout",
     "output_type": "stream",
     "text": [
      "     100300000.00000\n",
      "     100600900.00000\n",
      "     100902702.70000\n",
      "     101205410.80000\n",
      "     101509027.00000\n",
      "     101813554.10000\n",
      "     102118994.80000\n",
      "     102425351.80000\n",
      "     102732627.90000\n",
      "     103040825.80000\n"
     ]
    }
   ],
   "source": [
    "#問題2_1\n",
    "#10桁の場合\n",
    "n = 10\n",
    "getcontext().prec = n\n",
    "\n",
    "y = 0\n",
    "d = Decimal('0.1003').quantize(Decimal(10) ** -n)*10  #利息が0.3%\n",
    "e = Decimal('0.1').quantize(Decimal(10) ** -n)*1000000000  #元が10000万円\n",
    "\n",
    "while(y<10):  #複利計算で10年\n",
    "    print('%20.5f' %(e*d))\n",
    "    e=e*d\n",
    "    y = y+1"
   ]
  },
  {
   "cell_type": "code",
   "execution_count": 33,
   "metadata": {},
   "outputs": [
    {
     "name": "stdout",
     "output_type": "stream",
     "text": [
      "     100000000.00000\n",
      "     100000000.00000\n",
      "     100000000.00000\n",
      "     100000000.00000\n",
      "     100000000.00000\n",
      "     100000000.00000\n",
      "     100000000.00000\n",
      "     100000000.00000\n",
      "     100000000.00000\n",
      "     100000000.00000\n"
     ]
    }
   ],
   "source": [
    "#問題2_2\n",
    "#3桁の場合（n変えるだけ！！）\n",
    "n = 3\n",
    "getcontext().prec = n\n",
    "\n",
    "y = 0\n",
    "d = Decimal('0.1003').quantize(Decimal(10) ** -n)*10\n",
    "e = Decimal('0.1').quantize(Decimal(10) ** -n)*1000000000\n",
    "while(y<10):\n",
    "    print('%20.5f' %(e*d))\n",
    "    e=e*d\n",
    "    y = y+1"
   ]
  }
 ],
 "metadata": {
  "kernelspec": {
   "display_name": "Python 3",
   "language": "python",
   "name": "python3"
  },
  "language_info": {
   "codemirror_mode": {
    "name": "ipython",
    "version": 3
   },
   "file_extension": ".py",
   "mimetype": "text/x-python",
   "name": "python",
   "nbconvert_exporter": "python",
   "pygments_lexer": "ipython3",
   "version": "3.7.3"
  }
 },
 "nbformat": 4,
 "nbformat_minor": 2
}
