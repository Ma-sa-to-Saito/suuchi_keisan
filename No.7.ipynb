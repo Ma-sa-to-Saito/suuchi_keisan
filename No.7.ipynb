{
 "cells": [
  {
   "cell_type": "code",
   "execution_count": 3,
   "metadata": {},
   "outputs": [
    {
     "name": "stdout",
     "output_type": "stream",
     "text": [
      "      3       2\n",
      "-0.5 x + 1.5 x + 2.776e-16 x + 1\n"
     ]
    },
    {
     "data": {
      "image/png": "[encoded data removed]",
      "text/plain": [
       "<Figure size 432x288 with 1 Axes>"
      ]
     },
     "metadata": {
      "needs_background": "light"
     },
     "output_type": "display_data"
    }
   ],
   "source": [
    "import numpy as np\n",
    "from scipy import interpolate\n",
    "import matplotlib.pyplot as plt\n",
    "\n",
    "# もとの点\n",
    "x = np.array([0,1,2,3])\n",
    "y = np.array([1,2,3,1])\n",
    "for i in range(0,4):\n",
    "    plt.plot(x[i],y[i],'o',color='r')\n",
    "\n",
    "\n",
    "# Lagrange補間\n",
    "f = interpolate.lagrange(x,y)\n",
    "print(f)\n",
    "x = np.linspace(0,3, 100)\n",
    "y = f(x)\n",
    "plt.plot(x, y, color = 'b')\n",
    "\n",
    "plt.grid()\n",
    "plt.show()"
   ]
  },
  {
   "cell_type": "code",
   "execution_count": 4,
   "metadata": {},
   "outputs": [
    {
     "name": "stdout",
     "output_type": "stream",
     "text": [
      "[1 1 0 0]\n"
     ]
    },
    {
     "data": {
      "image/png": "[encoded data removed]",
      "text/plain": [
       "<Figure size 432x288 with 1 Axes>"
      ]
     },
     "metadata": {
      "needs_background": "light"
     },
     "output_type": "display_data"
    }
   ],
   "source": [
    "import numpy as np\n",
    "from scipy import interpolate\n",
    "import matplotlib.pyplot as plt\n",
    "\n",
    "def _poly_newton_coefficient(x,y):\n",
    "    \"\"\"\n",
    "    x: list or np array contanining x data points\n",
    "    y: list or np array contanining y data points\n",
    "    \"\"\"\n",
    "\n",
    "    m = len(x)\n",
    "\n",
    "    x = np.copy(x)\n",
    "    a = np.copy(y)\n",
    "    for k in range(1,m):\n",
    "#        print(a[k:m], a[k-1], x[k:m], x[k-1])\n",
    "        a[k:m] = (a[k:m] - a[k-1])/(x[k:m] - x[k-1])\n",
    "\n",
    "    return a\n",
    "\n",
    "def newton_polynomial(x_data, y_data, x):\n",
    "    \"\"\"\n",
    "    x_data: data points at x\n",
    "    y_data: data points at y\n",
    "    x: evaluation point(s)\n",
    "    \"\"\"\n",
    "    a = _poly_newton_coefficient(x_data, y_data)\n",
    "    n = len(x_data) - 1 # Degree of polynomial\n",
    "    p = a[n]\n",
    "    for k in range(1,n+1):\n",
    "        p = a[n-k] + (x -x_data[n-k])*p\n",
    "#        print(p)\n",
    "    return p\n",
    "\n",
    "# もとの点\n",
    "x = np.array([0,1,2,3])\n",
    "y = np.array([1,2,3,1])\n",
    "for i in range(0,4):\n",
    "    plt.plot(x[i],y[i],'o',color='r')\n",
    "\n",
    "\n",
    "print(_poly_newton_coefficient(x,y))\n",
    "\n",
    "xx = np.linspace(0,3, 100)\n",
    "yy = newton_polynomial(x, y, xx)\n",
    "plt.plot(xx, yy, color = 'b')\n",
    "\n",
    "plt.grid()\n",
    "plt.show()"
   ]
  },
  {
   "cell_type": "code",
   "execution_count": 2,
   "metadata": {},
   "outputs": [
    {
     "name": "stdout",
     "output_type": "stream",
     "text": [
      "[-0.0062115]\n"
     ]
    }
   ],
   "source": [
    "import numpy as np\n",
    "from scipy import interpolate\n",
    "import matplotlib.pyplot as plt\n",
    "\n",
    "def _poly_newton_coefficient(x,y):\n",
    "\n",
    "    m = len(x)\n",
    "    x = np.copy(x)\n",
    "    a = np.copy(y)\n",
    "    \n",
    "    for k in range(1,m):\n",
    "        a[k:m] = (a[k:m] - a[k-1])/(x[k:m] - x[k-1])\n",
    "    return a[k:m]\n",
    "\n",
    "def newton_polynomial(x_data, y_data, x):\n",
    "    \"\"\"\n",
    "    x_data: data points at x\n",
    "    y_data: data points at y\n",
    "    x: evaluation point(s)\n",
    "    \"\"\"\n",
    "    a = _poly_newton_coefficient(x_data, y_data)\n",
    "    n = len(x_data) - 1 # Degree of polynomial\n",
    "    p = a[n]\n",
    "    for k in range(1,n+1):\n",
    "        p = a[n-k] + (x -x_data[n-k])*p\n",
    "    return p\n",
    "\n",
    "# もとの点\n",
    "x = np.array([8.0,9.0,10.0])\n",
    "y = np.array([2.079442, 2.197225, 2.302585])\n",
    "\n",
    "#for i in range(0,4):\n",
    "#    plt.plot(x[i],y[i],'o',color='r')\n",
    "\n",
    "\n",
    "print(_poly_newton_coefficient(x,y))\n",
    "\n",
    "#xx = np.linspace(8,11, 100)\n",
    "#yy = newton_polynomial(x, y, xx)\n",
    "#plt.plot(xx, yy, color = 'b')\n",
    "\n",
    "#plt.grid()\n",
    "#plt.show()\n"
   ]
  },
  {
   "cell_type": "code",
   "execution_count": 3,
   "metadata": {},
   "outputs": [
    {
     "name": "stdout",
     "output_type": "stream",
     "text": [
      "[9.33984884]\n"
     ]
    }
   ],
   "source": [
    "import numpy as np\n",
    "from scipy import interpolate\n",
    "import matplotlib.pyplot as plt\n",
    "\n",
    "def _poly_newton_coefficient(x,y,m):\n",
    "\n",
    "#    m = len(x)\n",
    "    x = np.copy(x)\n",
    "    a = np.copy(y)\n",
    "    \n",
    "    for k in range(1,m):\n",
    "        a[k:m] = (a[k:m] - a[k-1])/(x[k:m] - x[k-1])\n",
    "    return a[k:m]\n",
    "\n",
    "def first_newton(x,y,x1):\n",
    "    f1 = _poly_newton_coefficient(x,y,2)\n",
    "    f = (x0- x[0])*f1\n",
    "    return f\n",
    "\n",
    "def second_newton(x,y,x1):\n",
    "    f2 = _poly_newton_coefficient(x,y,3)\n",
    "    f = (x0 - x[0])*(x0 - x[1])*f2\n",
    "    return f\n",
    "\n",
    "# もとの点\n",
    "x = np.array([8.0,9.0,10.0])\n",
    "y = np.array([2.079442, 2.197225, 2.302585])\n",
    "x0 = 9.2\n",
    "x1 = first_newton(x,y,x0)\n",
    "x2 = second_newton(x,y,x0)\n",
    "\n",
    "result = x0 + x1 + x2\n",
    "print(result)\n"
   ]
  },
  {
   "cell_type": "code",
   "execution_count": 62,
   "metadata": {},
   "outputs": [
    {
     "name": "stdout",
     "output_type": "stream",
     "text": [
      "[9.3397729]\n"
     ]
    }
   ],
   "source": [
    "import numpy as np\n",
    "from scipy import interpolate\n",
    "import matplotlib.pyplot as plt\n",
    "from decimal import *\n",
    "\n",
    "def _poly_newton_coefficient(x,y,m):\n",
    "\n",
    "#    m = len(x)\n",
    "    x = np.copy(x)\n",
    "    a = np.copy(y)\n",
    "    \n",
    "    for k in range(1,m):\n",
    "        a[k:m] = (a[k:m] - a[k-1])/(x[k:m] - x[k-1])\n",
    "#        print(k, a[k:m], a[k-1], x[k:m], x[k-1])\n",
    "    return a[k:m]\n",
    "\n",
    "def first_newton(x,y,x1):\n",
    "    f1 = _poly_newton_coefficient(x,y,2)\n",
    "    f = (x0- x[0])*f1\n",
    "    return f\n",
    "\n",
    "def second_newton(x,y,x1):\n",
    "    f2 = _poly_newton_coefficient(x,y,3)\n",
    "    f = (x0 - x[0])*(x0 - x[1])*f2\n",
    "    return f\n",
    "\n",
    "def third_newton(x,y,x1):\n",
    "    f3 = _poly_newton_coefficient(x,y,4)\n",
    "    f = (x0 - x[0])*(x0 - x[1])*(x0 - x[2])*f3\n",
    "    return f\n",
    "\n",
    "# もとの点\n",
    "x = np.array([8.0,9.0,10.0,11.0])\n",
    "y = np.array([2.079442, 2.197225, 2.302585, 2.397895])\n",
    "x0 = 9.2\n",
    "x1 = first_newton(x,y,x0)\n",
    "x2 = second_newton(x,y,x0)\n",
    "x3 = third_newton(x,y,x0)\n",
    "\n",
    "result = x0 + x1 + x2 + x3\n",
    "\n",
    "print(result)"
   ]
  },
  {
   "cell_type": "code",
   "execution_count": 64,
   "metadata": {},
   "outputs": [
    {
     "data": {
      "image/png": "[encoded data removed]",
      "text/plain": [
       "<Figure size 432x288 with 1 Axes>"
      ]
     },
     "metadata": {
      "needs_background": "light"
     },
     "output_type": "display_data"
    },
    {
     "data": {
      "image/png": "[encoded data removed]",
      "text/plain": [
       "<Figure size 432x288 with 1 Axes>"
      ]
     },
     "metadata": {
      "needs_background": "light"
     },
     "output_type": "display_data"
    }
   ],
   "source": [
    "import numpy as np\n",
    "\n",
    "def func(x):\n",
    "    return 4.0/(1.0+x**2)\n",
    "\n",
    "def mid(N):\n",
    "    x0, xn = 0.0, 1.0\n",
    "\n",
    "    h = (xn-x0)/N\n",
    "    S = 0.0\n",
    "    for i in range(0, N):\n",
    "        xi = x0 + (i+0.5)*h\n",
    "        dS = h * func(xi)\n",
    "        S = S + dS\n",
    "    return S\n",
    "\n",
    "x, y = [], []\n",
    "for i in range(1,8):\n",
    "    x.append(2**i)\n",
    "    y.append(abs(mid(2**i)-np.pi))\n",
    "    \n",
    "plt.plot(x, y, color = 'r')\n",
    "plt.yscale('log')\n",
    "plt.grid()\n",
    "plt.show()\n",
    "\n",
    "plt.plot(x, y, color = 'r')\n",
    "plt.yscale('log')\n",
    "plt.xscale('log')\n",
    "plt.grid()\n",
    "plt.show()"
   ]
  },
  {
   "cell_type": "code",
   "execution_count": 75,
   "metadata": {},
   "outputs": [
    {
     "data": {
      "image/png": "[encoded data removed]",
      "text/plain": [
       "<Figure size 432x288 with 1 Axes>"
      ]
     },
     "metadata": {
      "needs_background": "light"
     },
     "output_type": "display_data"
    },
    {
     "data": {
      "image/png": "[encoded data removed]",
      "text/plain": [
       "<Figure size 432x288 with 1 Axes>"
      ]
     },
     "metadata": {
      "needs_background": "light"
     },
     "output_type": "display_data"
    },
    {
     "name": "stdout",
     "output_type": "stream",
     "text": [
      "中点則で100区間に分けたときのdxとの差は、台形則で120区間分けたときよりも小さい。\n",
      "よって中点則の方が区間数が少なくても台形則よりも精度が高く優れていると言える。\n"
     ]
    }
   ],
   "source": [
    "def func(x):\n",
    "    return 4.0/(1.0+x**2)\n",
    "\n",
    "def trap(N):\n",
    "    x0, xn =0.0, 1.0\n",
    "\n",
    "    h = (xn-x0)/N\n",
    "    S = func(x0)/2.0\n",
    "    for i in range(1, N):\n",
    "        xi = x0 + i*h\n",
    "        dS = func(xi)\n",
    "        S = S + dS\n",
    "\n",
    "    S = S + func(xn)/2.0\n",
    "    return S*h\n",
    "\n",
    "x, y = [], []\n",
    "for i in range(1,8):\n",
    "    x.append(2**i)\n",
    "    y.append(abs(trap(2**i)-np.pi))\n",
    "    \n",
    "plt.plot(x, y, color = 'r')\n",
    "plt.yscale('log')\n",
    "plt.grid()\n",
    "plt.show()\n",
    "\n",
    "plt.plot(x, y, color = 'r')\n",
    "plt.yscale('log')\n",
    "plt.xscale('log')\n",
    "plt.grid()\n",
    "plt.show()\n",
    "\n",
    "print('中点則で100区間に分けたときのdxとの差は、台形則で120区間分けたときよりも小さい。')\n",
    "print('よって中点則の方が区間数が少なくても台形則よりも精度が高く優れていると言える。')"
   ]
  }
 ],
 "metadata": {
  "kernelspec": {
   "display_name": "Python 3",
   "language": "python",
   "name": "python3"
  },
  "language_info": {
   "codemirror_mode": {
    "name": "ipython",
    "version": 3
   },
   "file_extension": ".py",
   "mimetype": "text/x-python",
   "name": "python",
   "nbconvert_exporter": "python",
   "pygments_lexer": "ipython3",
   "version": "3.7.3"
  }
 },
 "nbformat": 4,
 "nbformat_minor": 2
}
